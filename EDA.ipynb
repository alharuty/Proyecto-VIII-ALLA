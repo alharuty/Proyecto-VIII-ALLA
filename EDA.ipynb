{
  "cells": [
    {
      "cell_type": "markdown",
      "metadata": {
        "id": "C1EQ5G9rQcwE"
      },
      "source": [
        "# Clustering and PCA"
      ]
    },
    {
      "cell_type": "markdown",
      "metadata": {
        "id": "Toc_OzXYQcwH"
      },
      "source": [
        "### Mushroom Dataset\n",
        "\n",
        "Podeis obtener el conjunto de datos en el siguiente enlace:\n",
        "\n",
        "[Mushroom Dataset](https://www.kaggle.com/uciml/mushroom-classification)\n",
        "\n",
        "Como podréis comprobar, hay muchas variables, todas ellas categóricas, por lo que exploraciones con scatterplot no nos serán útiles como en otros casos.\n",
        "\n",
        "La variable a predecir ``class`` es binaria.\n"
      ]
    },
    {
      "cell_type": "markdown",
      "metadata": {
        "id": "BJc845c11KbK"
      },
      "source": []
    },
    {
      "cell_type": "code",
      "execution_count": 154,
      "metadata": {
        "id": "RWIOS2y_QcwH"
      },
      "outputs": [],
      "source": [
        "# Carga de librerías, las que hemos considerado básicas, añadid lo que queráis :)\n",
        "\n",
        "import pandas as pd\n",
        "import numpy as np\n",
        "import seaborn as sns\n",
        "from sklearn.cluster import KMeans\n",
        "import matplotlib.pyplot as plt\n",
        "from sklearn.model_selection import train_test_split\n",
        "from sklearn.decomposition import PCA"
      ]
    },
    {
      "cell_type": "markdown",
      "metadata": {
        "id": "7KbJPDrpQcwI"
      },
      "source": [
        "### Leer conjunto de datos y primer vistazo"
      ]
    },
    {
      "cell_type": "code",
      "execution_count": 155,
      "metadata": {
        "colab": {
          "base_uri": "https://localhost:8080/",
          "height": 307
        },
        "id": "ugFkELR90KC-",
        "outputId": "f3710949-5bbd-4c80-81b9-a301f8513c86"
      },
      "outputs": [
        {
          "data": {
            "text/html": [
              "<div>\n",
              "<style scoped>\n",
              "    .dataframe tbody tr th:only-of-type {\n",
              "        vertical-align: middle;\n",
              "    }\n",
              "\n",
              "    .dataframe tbody tr th {\n",
              "        vertical-align: top;\n",
              "    }\n",
              "\n",
              "    .dataframe thead th {\n",
              "        text-align: right;\n",
              "    }\n",
              "</style>\n",
              "<table border=\"1\" class=\"dataframe\">\n",
              "  <thead>\n",
              "    <tr style=\"text-align: right;\">\n",
              "      <th></th>\n",
              "      <th>p</th>\n",
              "      <th>x</th>\n",
              "      <th>s</th>\n",
              "      <th>n</th>\n",
              "      <th>t</th>\n",
              "      <th>p.1</th>\n",
              "      <th>f</th>\n",
              "      <th>c</th>\n",
              "      <th>n.1</th>\n",
              "      <th>k</th>\n",
              "      <th>...</th>\n",
              "      <th>s.2</th>\n",
              "      <th>w</th>\n",
              "      <th>w.1</th>\n",
              "      <th>p.2</th>\n",
              "      <th>w.2</th>\n",
              "      <th>o</th>\n",
              "      <th>p.3</th>\n",
              "      <th>k.1</th>\n",
              "      <th>s.3</th>\n",
              "      <th>u</th>\n",
              "    </tr>\n",
              "  </thead>\n",
              "  <tbody>\n",
              "    <tr>\n",
              "      <th>0</th>\n",
              "      <td>e</td>\n",
              "      <td>x</td>\n",
              "      <td>s</td>\n",
              "      <td>y</td>\n",
              "      <td>t</td>\n",
              "      <td>a</td>\n",
              "      <td>f</td>\n",
              "      <td>c</td>\n",
              "      <td>b</td>\n",
              "      <td>k</td>\n",
              "      <td>...</td>\n",
              "      <td>s</td>\n",
              "      <td>w</td>\n",
              "      <td>w</td>\n",
              "      <td>p</td>\n",
              "      <td>w</td>\n",
              "      <td>o</td>\n",
              "      <td>p</td>\n",
              "      <td>n</td>\n",
              "      <td>n</td>\n",
              "      <td>g</td>\n",
              "    </tr>\n",
              "    <tr>\n",
              "      <th>1</th>\n",
              "      <td>e</td>\n",
              "      <td>b</td>\n",
              "      <td>s</td>\n",
              "      <td>w</td>\n",
              "      <td>t</td>\n",
              "      <td>l</td>\n",
              "      <td>f</td>\n",
              "      <td>c</td>\n",
              "      <td>b</td>\n",
              "      <td>n</td>\n",
              "      <td>...</td>\n",
              "      <td>s</td>\n",
              "      <td>w</td>\n",
              "      <td>w</td>\n",
              "      <td>p</td>\n",
              "      <td>w</td>\n",
              "      <td>o</td>\n",
              "      <td>p</td>\n",
              "      <td>n</td>\n",
              "      <td>n</td>\n",
              "      <td>m</td>\n",
              "    </tr>\n",
              "    <tr>\n",
              "      <th>2</th>\n",
              "      <td>p</td>\n",
              "      <td>x</td>\n",
              "      <td>y</td>\n",
              "      <td>w</td>\n",
              "      <td>t</td>\n",
              "      <td>p</td>\n",
              "      <td>f</td>\n",
              "      <td>c</td>\n",
              "      <td>n</td>\n",
              "      <td>n</td>\n",
              "      <td>...</td>\n",
              "      <td>s</td>\n",
              "      <td>w</td>\n",
              "      <td>w</td>\n",
              "      <td>p</td>\n",
              "      <td>w</td>\n",
              "      <td>o</td>\n",
              "      <td>p</td>\n",
              "      <td>k</td>\n",
              "      <td>s</td>\n",
              "      <td>u</td>\n",
              "    </tr>\n",
              "    <tr>\n",
              "      <th>3</th>\n",
              "      <td>e</td>\n",
              "      <td>x</td>\n",
              "      <td>s</td>\n",
              "      <td>g</td>\n",
              "      <td>f</td>\n",
              "      <td>n</td>\n",
              "      <td>f</td>\n",
              "      <td>w</td>\n",
              "      <td>b</td>\n",
              "      <td>k</td>\n",
              "      <td>...</td>\n",
              "      <td>s</td>\n",
              "      <td>w</td>\n",
              "      <td>w</td>\n",
              "      <td>p</td>\n",
              "      <td>w</td>\n",
              "      <td>o</td>\n",
              "      <td>e</td>\n",
              "      <td>n</td>\n",
              "      <td>a</td>\n",
              "      <td>g</td>\n",
              "    </tr>\n",
              "    <tr>\n",
              "      <th>4</th>\n",
              "      <td>e</td>\n",
              "      <td>x</td>\n",
              "      <td>y</td>\n",
              "      <td>y</td>\n",
              "      <td>t</td>\n",
              "      <td>a</td>\n",
              "      <td>f</td>\n",
              "      <td>c</td>\n",
              "      <td>b</td>\n",
              "      <td>n</td>\n",
              "      <td>...</td>\n",
              "      <td>s</td>\n",
              "      <td>w</td>\n",
              "      <td>w</td>\n",
              "      <td>p</td>\n",
              "      <td>w</td>\n",
              "      <td>o</td>\n",
              "      <td>p</td>\n",
              "      <td>k</td>\n",
              "      <td>n</td>\n",
              "      <td>g</td>\n",
              "    </tr>\n",
              "  </tbody>\n",
              "</table>\n",
              "<p>5 rows × 23 columns</p>\n",
              "</div>"
            ],
            "text/plain": [
              "   p  x  s  n  t p.1  f  c n.1  k  ... s.2  w w.1 p.2 w.2  o p.3 k.1 s.3  u\n",
              "0  e  x  s  y  t   a  f  c   b  k  ...   s  w   w   p   w  o   p   n   n  g\n",
              "1  e  b  s  w  t   l  f  c   b  n  ...   s  w   w   p   w  o   p   n   n  m\n",
              "2  p  x  y  w  t   p  f  c   n  n  ...   s  w   w   p   w  o   p   k   s  u\n",
              "3  e  x  s  g  f   n  f  w   b  k  ...   s  w   w   p   w  o   e   n   a  g\n",
              "4  e  x  y  y  t   a  f  c   b  n  ...   s  w   w   p   w  o   p   k   n  g\n",
              "\n",
              "[5 rows x 23 columns]"
            ]
          },
          "execution_count": 155,
          "metadata": {},
          "output_type": "execute_result"
        }
      ],
      "source": [
        "df = pd.read_csv(\"data/agaricus-lepiota.data\")\n",
        "\n",
        "df.head(5)"
      ]
    },
    {
      "cell_type": "code",
      "execution_count": 156,
      "metadata": {
        "colab": {
          "base_uri": "https://localhost:8080/"
        },
        "id": "h71y5DxY1gSD",
        "outputId": "2409b436-0f4c-4036-f5d5-23ffb10bc7fb"
      },
      "outputs": [
        {
          "data": {
            "text/plain": [
              "Index(['p', 'x', 's', 'n', 't', 'p.1', 'f', 'c', 'n.1', 'k', 'e', 'e.1', 's.1',\n",
              "       's.2', 'w', 'w.1', 'p.2', 'w.2', 'o', 'p.3', 'k.1', 's.3', 'u'],\n",
              "      dtype='object')"
            ]
          },
          "execution_count": 156,
          "metadata": {},
          "output_type": "execute_result"
        }
      ],
      "source": [
        "# imprimimos los nombres de las columnas\n",
        "df.columns"
      ]
    },
    {
      "cell_type": "code",
      "execution_count": 157,
      "metadata": {},
      "outputs": [
        {
          "name": "stdout",
          "output_type": "stream",
          "text": [
            "p: 2 valores únicos\n",
            "x: 6 valores únicos\n",
            "s: 4 valores únicos\n",
            "n: 10 valores únicos\n",
            "t: 2 valores únicos\n",
            "p.1: 9 valores únicos\n",
            "f: 2 valores únicos\n",
            "c: 2 valores únicos\n",
            "n.1: 2 valores únicos\n",
            "k: 12 valores únicos\n",
            "e: 2 valores únicos\n",
            "e.1: 5 valores únicos\n",
            "s.1: 4 valores únicos\n",
            "s.2: 4 valores únicos\n",
            "w: 9 valores únicos\n",
            "w.1: 9 valores únicos\n",
            "p.2: 1 valores únicos\n",
            "w.2: 4 valores únicos\n",
            "o: 3 valores únicos\n",
            "p.3: 5 valores únicos\n",
            "k.1: 9 valores únicos\n",
            "s.3: 6 valores únicos\n",
            "u: 7 valores únicos\n"
          ]
        }
      ],
      "source": [
        "# imprimos el número de valores únicos por columna\n",
        "for col in df.columns:\n",
        "    print(f\"{col}: {df[col].nunique()} valores únicos\")\n"
      ]
    },
    {
      "cell_type": "code",
      "execution_count": 158,
      "metadata": {},
      "outputs": [],
      "source": [
        "# renombramos las colunmas para que sean más descriptivas\n",
        "df.columns = [\n",
        "    'clase',                   # class\n",
        "    'forma_sombrero',          # cap-shape\n",
        "    'superficie_sombrero',     # cap-surface\n",
        "    'color_sombrero',          # cap-color\n",
        "    'magulladuras',            # bruises\n",
        "    'olor',                    # odor\n",
        "    'union_laminas',           # gill-attachment\n",
        "    'espaciado_laminas',       # gill-spacing\n",
        "    'tamano_laminas',          # gill-size\n",
        "    'color_laminas',           # gill-color\n",
        "    'forma_tallo',             # stalk-shape\n",
        "    'raiz_tallo',              # stalk-root\n",
        "    'superficie_tallo_arriba_anillo',  # stalk-surface-above-ring\n",
        "    'superficie_tallo_abajo_anillo',   # stalk-surface-below-ring\n",
        "    'color_tallo_arriba_anillo',       # stalk-color-above-ring\n",
        "    'color_tallo_abajo_anillo',        # stalk-color-below-ring\n",
        "    'tipo_velo',              # veil-type\n",
        "    'color_velo',             # veil-color\n",
        "    'numero_anillos',         # ring-number\n",
        "    'tipo_anillo',            # ring-type\n",
        "    'color_esporas',          # spore-print-color\n",
        "    'poblacion',              # population\n",
        "    'habitat',                # habitat\n",
        "]\n"
      ]
    },
    {
      "cell_type": "markdown",
      "metadata": {},
      "source": [
        "| Nombre de columna                    | Valores posibles (código = significado)                                                                 |\n",
        "|-------------------------------------|----------------------------------------------------------------------------------------------------------|\n",
        "| clase                      | e=comestible, p=venenoso                      |\n",
        "| forma_sombrero                      | b = campana, c = cónica, x = convexa, f = plana, k = con protuberancia, s = hundida                      |\n",
        "| superficie_sombrero                 | f = fibrosa, g = con ranuras, y = escamosa, s = lisa                                                     |\n",
        "| color_sombrero                      | n = marrón, b = beige, c = canela, g = gris, r = verde, p = rosado, u = púrpura, e = rojo, w = blanco, y = amarillo |\n",
        "| magulladuras                        | t = sí, f = no                                                                                           |\n",
        "| olor                                | a = almendra, l = anís, c = creosota, y = a pescado, f = fétido, m = mohoso, n = ninguno, p = picante, s = especiado |\n",
        "| union_laminas                       | a = adherida, d = descendente, f = libre, n = entallada                                                  |\n",
        "| espaciado_laminas                   | c = cerrado, w = apiñado, d = separado                                                                   |\n",
        "| tamano_laminas                      | b = ancho, n = estrecho                                                                                   |\n",
        "| color_laminas                       | k = negro, n = marrón, b = beige, h = chocolate, g = gris, r = verde, o = naranja, p = rosado, u = púrpura, e = rojo, w = blanco, y = amarillo |\n",
        "| forma_tallo                         | e = ensanchado, t = afilado                                                                              |\n",
        "| raiz_tallo                          | b = bulboso, c = maza, e = igual, r = enraizado, ? = faltante                   |\n",
        "| superficie_tallo_arriba_anillo     | f = fibrosa, y = escamosa, k = sedosa, s = lisa                                                          |\n",
        "| superficie_tallo_abajo_anillo      | f = fibrosa, y = escamosa, k = sedosa, s = lisa                                                          |\n",
        "| color_tallo_arriba_anillo          | n = marrón, b = beige, c = canela, g = gris, o = naranja, p = rosado, e = rojo, w = blanco, y = amarillo |\n",
        "| color_tallo_abajo_anillo           | n = marrón, b = beige, c = canela, g = gris, o = naranja, p = rosado, e = rojo, w = blanco, y = amarillo |\n",
        "| tipo_velo                           | p = parcial, u = universal                                                                               |\n",
        "| color_velo                          | n = marrón, o = naranja, w = blanco, y = amarillo                                                        |\n",
        "| numero_anillos                      | n = ninguno, o = uno, t = dos                                                                            |\n",
        "| tipo_anillo                         | c = telaraña, e = efímero, f = ensanchado, l = grande, n = ninguno, p = colgante, s = envainado, z = zona |\n",
        "| color_esporas                       | k = negro, n = marrón, b = beige, h = chocolate, r = verde, o = naranja, u = púrpura, w = blanco, y = amarillo |\n",
        "| poblacion                           | a = abundante, c = agrupada, n = numerosa, s = dispersa, v = varias, y = solitaria                      |\n",
        "| habitat                             | g = pasto, l = hojas, m = praderas, p = senderos, u = urbano, w = desechos, d = bosque                   |\n"
      ]
    },
    {
      "cell_type": "code",
      "execution_count": 159,
      "metadata": {},
      "outputs": [
        {
          "data": {
            "text/plain": [
              "clase                             0\n",
              "forma_sombrero                    0\n",
              "superficie_sombrero               0\n",
              "color_sombrero                    0\n",
              "magulladuras                      0\n",
              "olor                              0\n",
              "union_laminas                     0\n",
              "espaciado_laminas                 0\n",
              "tamano_laminas                    0\n",
              "color_laminas                     0\n",
              "forma_tallo                       0\n",
              "raiz_tallo                        0\n",
              "superficie_tallo_arriba_anillo    0\n",
              "superficie_tallo_abajo_anillo     0\n",
              "color_tallo_arriba_anillo         0\n",
              "color_tallo_abajo_anillo          0\n",
              "tipo_velo                         0\n",
              "color_velo                        0\n",
              "numero_anillos                    0\n",
              "tipo_anillo                       0\n",
              "color_esporas                     0\n",
              "poblacion                         0\n",
              "habitat                           0\n",
              "dtype: int64"
            ]
          },
          "execution_count": 159,
          "metadata": {},
          "output_type": "execute_result"
        }
      ],
      "source": [
        "# imprimimos el número de valores faltantes por columna\n",
        "df.isnull().sum()"
      ]
    },
    {
      "cell_type": "markdown",
      "metadata": {},
      "source": [
        "Podemos ver a simple vista que no hay valores faltantes, pero mirando el \"diccionario\" de variables hay una columna llamada \"s.1\" que ahora se llama \"raiz_tallo\" tiene una variable llamada \"?\" que corresponde a valor faltante. Procedemos a imprimir la cantidad de valores \"?\" hay en el dataset, más necesario en la columna \"raiz_tallo\"."
      ]
    },
    {
      "cell_type": "code",
      "execution_count": 160,
      "metadata": {},
      "outputs": [
        {
          "data": {
            "text/plain": [
              "clase                                0\n",
              "forma_sombrero                       0\n",
              "superficie_sombrero                  0\n",
              "color_sombrero                       0\n",
              "magulladuras                         0\n",
              "olor                                 0\n",
              "union_laminas                        0\n",
              "espaciado_laminas                    0\n",
              "tamano_laminas                       0\n",
              "color_laminas                        0\n",
              "forma_tallo                          0\n",
              "raiz_tallo                        2480\n",
              "superficie_tallo_arriba_anillo       0\n",
              "superficie_tallo_abajo_anillo        0\n",
              "color_tallo_arriba_anillo            0\n",
              "color_tallo_abajo_anillo             0\n",
              "tipo_velo                            0\n",
              "color_velo                           0\n",
              "numero_anillos                       0\n",
              "tipo_anillo                          0\n",
              "color_esporas                        0\n",
              "poblacion                            0\n",
              "habitat                              0\n",
              "dtype: int64"
            ]
          },
          "execution_count": 160,
          "metadata": {},
          "output_type": "execute_result"
        }
      ],
      "source": [
        "df.isin(['?']).sum()"
      ]
    },
    {
      "cell_type": "code",
      "execution_count": 161,
      "metadata": {},
      "outputs": [
        {
          "data": {
            "text/plain": [
              "raiz_tallo\n",
              "b    3776\n",
              "?    2480\n",
              "e    1119\n",
              "c     556\n",
              "r     192\n",
              "Name: count, dtype: int64"
            ]
          },
          "execution_count": 161,
          "metadata": {},
          "output_type": "execute_result"
        }
      ],
      "source": [
        "df['raiz_tallo'].value_counts()"
      ]
    },
    {
      "cell_type": "markdown",
      "metadata": {},
      "source": [
        "Confirmamos que hay 2480 valores faltantes en la columna \"raiz_tallo\" y los convertimos a \"nan\"."
      ]
    },
    {
      "cell_type": "code",
      "execution_count": 162,
      "metadata": {},
      "outputs": [],
      "source": [
        "df['raiz_tallo'] = df['raiz_tallo'].replace('?', np.nan)"
      ]
    },
    {
      "cell_type": "code",
      "execution_count": 163,
      "metadata": {},
      "outputs": [
        {
          "data": {
            "text/plain": [
              "raiz_tallo\n",
              "b      3776\n",
              "NaN    2480\n",
              "e      1119\n",
              "c       556\n",
              "r       192\n",
              "Name: count, dtype: int64"
            ]
          },
          "execution_count": 163,
          "metadata": {},
          "output_type": "execute_result"
        }
      ],
      "source": [
        "df[\"raiz_tallo\"].value_counts(dropna=False)"
      ]
    },
    {
      "cell_type": "markdown",
      "metadata": {
        "id": "dePM9qXKQcwJ"
      },
      "source": [
        "### Exploración de datos"
      ]
    },
    {
      "cell_type": "code",
      "execution_count": 164,
      "metadata": {
        "id": "45TsUuwkQcwJ"
      },
      "outputs": [
        {
          "name": "stdout",
          "output_type": "stream",
          "text": [
            "<class 'pandas.core.frame.DataFrame'>\n",
            "RangeIndex: 8123 entries, 0 to 8122\n",
            "Data columns (total 23 columns):\n",
            " #   Column                          Non-Null Count  Dtype \n",
            "---  ------                          --------------  ----- \n",
            " 0   clase                           8123 non-null   object\n",
            " 1   forma_sombrero                  8123 non-null   object\n",
            " 2   superficie_sombrero             8123 non-null   object\n",
            " 3   color_sombrero                  8123 non-null   object\n",
            " 4   magulladuras                    8123 non-null   object\n",
            " 5   olor                            8123 non-null   object\n",
            " 6   union_laminas                   8123 non-null   object\n",
            " 7   espaciado_laminas               8123 non-null   object\n",
            " 8   tamano_laminas                  8123 non-null   object\n",
            " 9   color_laminas                   8123 non-null   object\n",
            " 10  forma_tallo                     8123 non-null   object\n",
            " 11  raiz_tallo                      5643 non-null   object\n",
            " 12  superficie_tallo_arriba_anillo  8123 non-null   object\n",
            " 13  superficie_tallo_abajo_anillo   8123 non-null   object\n",
            " 14  color_tallo_arriba_anillo       8123 non-null   object\n",
            " 15  color_tallo_abajo_anillo        8123 non-null   object\n",
            " 16  tipo_velo                       8123 non-null   object\n",
            " 17  color_velo                      8123 non-null   object\n",
            " 18  numero_anillos                  8123 non-null   object\n",
            " 19  tipo_anillo                     8123 non-null   object\n",
            " 20  color_esporas                   8123 non-null   object\n",
            " 21  poblacion                       8123 non-null   object\n",
            " 22  habitat                         8123 non-null   object\n",
            "dtypes: object(23)\n",
            "memory usage: 1.4+ MB\n"
          ]
        }
      ],
      "source": [
        "# Descripción del conjunto de datos, estándard.\n",
        "df.info()"
      ]
    },
    {
      "cell_type": "code",
      "execution_count": 165,
      "metadata": {
        "id": "WJG-fxzJQcwJ"
      },
      "outputs": [
        {
          "name": "stdout",
          "output_type": "stream",
          "text": [
            "Todos los datos son de tipo 'object', es decir son categóricos.\n"
          ]
        }
      ],
      "source": [
        "# Información sobre el tipo de datos de cada feature.\n",
        "print(\"Todos los datos son de tipo 'object', es decir son categóricos.\")"
      ]
    },
    {
      "cell_type": "markdown",
      "metadata": {
        "id": "Md7i8gXBQcwJ"
      },
      "source": [
        "#### Calcular el número de nulos de cada feature"
      ]
    },
    {
      "cell_type": "code",
      "execution_count": 166,
      "metadata": {
        "id": "8xXz4mT0QcwJ",
        "scrolled": false
      },
      "outputs": [
        {
          "name": "stdout",
          "output_type": "stream",
          "text": [
            "El dataset no contiene valores nulos en ninguna de sus columnas, pero en la columna 'raiz_tallo' hay 248 valores que son '?' \n",
            "que representan datos perdidos y los hemos reemplazado por NaN.\n"
          ]
        }
      ],
      "source": [
        "# Igual que otras veces, una linea, contar los nulos por variable.\n",
        "print(\"El dataset no contiene valores nulos en ninguna de sus columnas, pero en la columna 'raiz_tallo' hay 248 valores que son '?' \\nque representan datos perdidos y los hemos reemplazado por NaN.\")"
      ]
    },
    {
      "cell_type": "markdown",
      "metadata": {
        "id": "MJv-ez3WQcwK"
      },
      "source": [
        "#### Buscar valores extraños. Para ello, ver los valores únicos en cada feature"
      ]
    },
    {
      "cell_type": "code",
      "execution_count": 167,
      "metadata": {
        "id": "fUZ2EHmTQcwK"
      },
      "outputs": [
        {
          "name": "stdout",
          "output_type": "stream",
          "text": [
            "                           feature                              n_values\n",
            "0                            clase                                [e, p]\n",
            "1                   forma_sombrero                    [x, b, s, f, k, c]\n",
            "2              superficie_sombrero                          [s, y, f, g]\n",
            "3                   color_sombrero        [y, w, g, n, e, p, b, u, c, r]\n",
            "4                     magulladuras                                [t, f]\n",
            "5                             olor           [a, l, p, n, f, c, y, s, m]\n",
            "6                    union_laminas                                [f, a]\n",
            "7                espaciado_laminas                                [c, w]\n",
            "8                   tamano_laminas                                [b, n]\n",
            "9                    color_laminas  [k, n, g, p, w, h, u, e, b, r, y, o]\n",
            "10                     forma_tallo                                [e, t]\n",
            "11                      raiz_tallo                     [c, e, b, r, nan]\n",
            "12  superficie_tallo_arriba_anillo                          [s, f, k, y]\n",
            "13   superficie_tallo_abajo_anillo                          [s, f, y, k]\n",
            "14       color_tallo_arriba_anillo           [w, g, p, n, b, e, o, c, y]\n",
            "15        color_tallo_abajo_anillo           [w, p, g, b, n, e, y, o, c]\n",
            "16                       tipo_velo                                   [p]\n",
            "17                      color_velo                          [w, n, o, y]\n",
            "18                  numero_anillos                             [o, t, n]\n",
            "19                     tipo_anillo                       [p, e, l, f, n]\n",
            "20                   color_esporas           [n, k, u, h, w, r, o, y, b]\n",
            "21                       poblacion                    [n, s, a, v, y, c]\n",
            "22                         habitat                 [g, m, u, d, p, w, l]\n",
            "El nuevo dataframe ha sido guardado en 'resumen_features.csv'.\n"
          ]
        }
      ],
      "source": [
        "# Obtener un nuevo dataframe de dos columnas donde en la primera estén las features (features) y en la otra los valores únicos\n",
        "# asociados (n_values).\n",
        "\n",
        "features = []\n",
        "valores_unicos = []\n",
        "\n",
        "for col in df.columns:\n",
        "    features.append(col)\n",
        "    valores_unicos.append(list(df[col].unique()))\n",
        "\n",
        "resumen = pd.DataFrame({\n",
        "    'feature': features,\n",
        "    'n_values': valores_unicos\n",
        "})\n",
        "\n",
        "print(resumen)\n",
        "\n",
        "resumen.to_csv(\"data/resumen_features.csv\", index=False)\n",
        "print(\"El nuevo dataframe ha sido guardado en 'resumen_features.csv'.\")\n",
        "\n"
      ]
    },
    {
      "cell_type": "markdown",
      "metadata": {
        "id": "YXIyz_tdQcwK"
      },
      "source": [
        "#### Tratar aquellos valores que entendamos que sean nulos\n"
      ]
    },
    {
      "cell_type": "code",
      "execution_count": 168,
      "metadata": {
        "id": "OVQnxK1gQcwK"
      },
      "outputs": [],
      "source": [
        "# Imputaciones. Podéis quitar esos puntos (fila entera), imputar con la moda o dejar ese valor como una posibilidad más."
      ]
    },
    {
      "cell_type": "markdown",
      "metadata": {
        "id": "8dbmx1Z7QcwK"
      },
      "source": [
        "#### Mirad cuántos valores hay en cada feature, ¿Todas las features aportan información? Si alguna no aporta información, eliminadla"
      ]
    },
    {
      "cell_type": "code",
      "execution_count": 169,
      "metadata": {
        "id": "ts2xeUavQcwK"
      },
      "outputs": [],
      "source": [
        "# Dejar por el camino si procede."
      ]
    },
    {
      "cell_type": "markdown",
      "metadata": {
        "id": "2dX1LM1VQcwK"
      },
      "source": [
        "#### Separar entre variables predictoras y variables a predecir"
      ]
    },
    {
      "cell_type": "code",
      "execution_count": 170,
      "metadata": {
        "colab": {
          "base_uri": "https://localhost:8080/",
          "height": 106
        },
        "id": "pS9HEA2eQcwK",
        "outputId": "3bc8f166-5b22-41e7-aa6b-69bad0b06280"
      },
      "outputs": [
        {
          "ename": "SyntaxError",
          "evalue": "invalid syntax (3592957914.py, line 2)",
          "output_type": "error",
          "traceback": [
            "  \u001b[36mCell\u001b[39m\u001b[36m \u001b[39m\u001b[32mIn[170]\u001b[39m\u001b[32m, line 2\u001b[39m\n\u001b[31m    \u001b[39m\u001b[31my =\u001b[39m\n       ^\n\u001b[31mSyntaxError\u001b[39m\u001b[31m:\u001b[39m invalid syntax\n"
          ]
        }
      ],
      "source": [
        "# La variable que trata de predecir este conjunto de datos es 'class'.\n",
        "y =\n",
        "X ="
      ]
    },
    {
      "cell_type": "markdown",
      "metadata": {
        "id": "sN1fZZfZQcwL"
      },
      "source": [
        "#### Codificar correctamente las variables categóricas a numéricas"
      ]
    },
    {
      "cell_type": "code",
      "execution_count": null,
      "metadata": {
        "id": "-4l92dfEQcwL"
      },
      "outputs": [],
      "source": [
        "# One Hot Encoder (una linea)."
      ]
    },
    {
      "cell_type": "markdown",
      "metadata": {
        "id": "RBBAM0bzQcwL"
      },
      "source": [
        "#### Train test split"
      ]
    },
    {
      "cell_type": "code",
      "execution_count": null,
      "metadata": {
        "id": "hHxqeJQqQcwL"
      },
      "outputs": [],
      "source": [
        "# Os lo dejamos a todos igual\n",
        "X_train, X_test, y_train, y_test = train_test_split(X, y, test_size=0.33, random_state=42)"
      ]
    },
    {
      "cell_type": "markdown",
      "metadata": {
        "id": "3sL57bzCQcwL"
      },
      "source": [
        "## PCA"
      ]
    },
    {
      "cell_type": "markdown",
      "metadata": {
        "id": "uhAhJqbKQcwM"
      },
      "source": [
        "Es un conjunto de datos del que aún no hemos visto nada (no tenemos graficas) así que vamos a hacer algunas. Tenemos el problema de que son muchas variables, **PCA al rescate**: le pedimos que nos de dos dimensiones y las pintamos, sabemos que serán **aquellas que retengan más información**."
      ]
    },
    {
      "cell_type": "code",
      "execution_count": null,
      "metadata": {
        "id": "3232KSn9QcwM",
        "scrolled": true
      },
      "outputs": [],
      "source": [
        "pca =       # metodo de sklearn\n",
        "pca.fit(X_train)\n",
        "\n",
        "# Representar en un scatterplot y poner en color las etiquetas de entrenamiento"
      ]
    },
    {
      "cell_type": "markdown",
      "metadata": {
        "id": "DMYH_Hv0QcwM"
      },
      "source": [
        "Parece que está bastante separadito, parece que a ojo mucho se puede ver :)"
      ]
    },
    {
      "cell_type": "markdown",
      "metadata": {
        "id": "QdE0AvlKQcwM"
      },
      "source": [
        "Igualmente, vamos a entrenar un clasificador a ver qué tal lo hace antes de editar más"
      ]
    },
    {
      "cell_type": "code",
      "execution_count": null,
      "metadata": {
        "id": "eKQqz_EPQcwM"
      },
      "outputs": [],
      "source": [
        "from sklearn.ensemble import RandomForestClassifier\n",
        "\n",
        "# 1. Definir el clasificador y el número de estimadores\n",
        "# 2. Entrenar en train\n",
        "# 3. Calcular la precisión sobre test"
      ]
    },
    {
      "cell_type": "markdown",
      "metadata": {
        "id": "PACQlU5_QcwM"
      },
      "source": [
        "Es un conjunto sencillo y Random Forest es muy bueno en su trabajo, Igualmente, vamos a ver qué tamaño tenemos de dataset:\n"
      ]
    },
    {
      "cell_type": "code",
      "execution_count": null,
      "metadata": {
        "id": "ODibK0D2QcwN"
      },
      "outputs": [],
      "source": [
        "X_train.shape"
      ]
    },
    {
      "cell_type": "markdown",
      "metadata": {
        "id": "_rEVhvRaQcwN"
      },
      "source": [
        "¿Muchas features no? Vamos a reducir las usando PCA."
      ]
    },
    {
      "cell_type": "code",
      "execution_count": null,
      "metadata": {
        "id": "kEJPZw_cQcwN",
        "scrolled": true
      },
      "outputs": [],
      "source": [
        "n_features = # definir un rango de valores a probar\n",
        "scores = []\n",
        "\n",
        "for n in n_features:\n",
        "\n",
        "    # Hacer PCA sobre X_train\n",
        "    # 1. Definir PCA\n",
        "    # 2. Aprender PCA sobre X_train\n",
        "\n",
        "    # Entrenar Random Forest\n",
        "    # 1. Definir el RF\n",
        "    # 2. Entrenar clasificador\n",
        "\n",
        "    # Guardar el score\n",
        "\n",
        "\n",
        "sns.lineplot(x=n_features, y=scores)\n"
      ]
    },
    {
      "cell_type": "markdown",
      "metadata": {
        "id": "dKjl6aHiQcwN"
      },
      "source": [
        "Vale, estamos viendo que a partir de unas 10 features ya tenemos el score que queríamos y además hemos reducido las variables a un 10% de las que teníamos, incluso menos que las variables originales."
      ]
    },
    {
      "cell_type": "markdown",
      "metadata": {
        "id": "2Jvqa-leQcwN"
      },
      "source": [
        "## Clustering"
      ]
    },
    {
      "cell_type": "markdown",
      "metadata": {
        "id": "VWiMHKUdQcwN"
      },
      "source": [
        "Viendo que el conjunto de datos es sencillito, podemos intentar hacer algo de clustering a ver qué información podemos obtener.\n",
        "\n",
        "El primer paso va a ser importar la función de Kmeans de sklearn, y a partir de ahi, vamos a buscar el valor óptimo de clusters. Como hemos visto anteriormente, este valor lo obtenemos, por ejemplo, del codo de la gráfica que representa el total de las distancias de los puntos a los centros de los clusters asociados. Os dejo la página de la documentación de sklearn para que lo busquéis:\n",
        "\n",
        "[K-Means on sklearn](https://scikit-learn.org/stable/modules/generated/sklearn.cluster.KMeans.html)\n",
        "\n",
        "Con esto solo hay que ahora generar los modelos de kmeans, evaluar y pintar la gráfica para los valores de ``k`` que establezcais.\n",
        "\n",
        "\n"
      ]
    },
    {
      "cell_type": "code",
      "execution_count": null,
      "metadata": {
        "id": "DV0IXFncQcwO"
      },
      "outputs": [],
      "source": [
        "from sklearn.cluster import KMeans\n",
        "\n",
        "scores = []\n",
        "k_values = # definir un rango\n",
        "for a in k_values:\n",
        "\n",
        "    # Definir Kmeans y ajustar\n",
        "    # Guardar la predicción\n",
        "\n",
        "sns.lineplot(x=k_values, y=scores)"
      ]
    },
    {
      "cell_type": "markdown",
      "metadata": {
        "id": "OSgPG286QcwO"
      },
      "source": [
        "Con el valor que hayáis obtenido de la gráfica, podéis obtener una buena aproximación de Kmeans y con ello podemos pasar a explorar cómo de bien han separado la información los distintos clusters. Para ello, se va a hacer un ``catplot``, seaborn os lo hará solito. Con esto lo que se pretende ver es la distribución de la varaible a predecir en función del cluster que haya determinado Kmeans."
      ]
    },
    {
      "cell_type": "code",
      "execution_count": null,
      "metadata": {
        "id": "Wa7XfETyQcwO",
        "scrolled": false
      },
      "outputs": [],
      "source": [
        "# Aprender Kmeans con el valor de K obtenido.\n",
        "\n",
        "kmeans = # Definir y entrenar Kmeans.\n",
        "\n",
        "# Preparar el catplot.\n",
        "\n",
        "\n",
        "# Pintar.\n",
        "ax = sns.catplot(col=, x=, data=, kind='count',col_wrap=4)"
      ]
    },
    {
      "cell_type": "markdown",
      "metadata": {
        "id": "JzMUKFwzQcwO"
      },
      "source": [
        "Vamos a ver qué tal queda esto pintado. Para ello, repetimos el scatterplot de antes pero usando como color el cluster asignado por kmeans."
      ]
    },
    {
      "cell_type": "code",
      "execution_count": null,
      "metadata": {
        "id": "IjhjuexcQcwO",
        "scrolled": true
      },
      "outputs": [],
      "source": [
        "# Entrenar PCA para representar.\n",
        "\n",
        "# Usar un color por cada cluster.\n"
      ]
    },
    {
      "cell_type": "markdown",
      "metadata": {
        "id": "v0q-ZDhQQcwO"
      },
      "source": [
        "¿Es bastante parecido no? No es tan bueno como el Random Forest, pero ha conseguido identificar bastante bien los distintos puntos del dataset sin utilizar las etiquetas. De hecho, el diagrama de factor que hemos visto antes muestra que solo un par de clusters son imprecisos. Si no hubieramos tenido etiquetas esta aproximacion nos hubiera ayudado mucho a clasificar los distintos tipos de hongos."
      ]
    }
  ],
  "metadata": {
    "colab": {
      "provenance": []
    },
    "kernelspec": {
      "display_name": ".venv",
      "language": "python",
      "name": "python3"
    },
    "language_info": {
      "codemirror_mode": {
        "name": "ipython",
        "version": 3
      },
      "file_extension": ".py",
      "mimetype": "text/x-python",
      "name": "python",
      "nbconvert_exporter": "python",
      "pygments_lexer": "ipython3",
      "version": "3.13.3"
    }
  },
  "nbformat": 4,
  "nbformat_minor": 0
}
